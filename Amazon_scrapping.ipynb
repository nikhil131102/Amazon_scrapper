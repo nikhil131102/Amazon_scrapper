{
 "cells": [
  {
   "cell_type": "code",
   "execution_count": 1,
   "id": "e587a6f4-261b-43c4-8d7a-1ad7baca32c7",
   "metadata": {},
   "outputs": [],
   "source": [
    "#pip install pyarrow   for sake of numpy "
   ]
  },
  {
   "cell_type": "code",
   "execution_count": 2,
   "id": "aa15618a-287f-4574-a378-f26a78ca1045",
   "metadata": {},
   "outputs": [],
   "source": [
    "import numpy as np\n",
    "import pandas as pd"
   ]
  },
  {
   "cell_type": "code",
   "execution_count": 3,
   "id": "aa202537-8f08-40a8-8629-4fe9d0e72f73",
   "metadata": {},
   "outputs": [],
   "source": [
    "from selenium import webdriver\n",
    "from selenium.webdriver.common.by import By\n",
    "from selenium.webdriver.chrome.service import Service\n",
    "from time import sleep\n"
   ]
  },
  {
   "cell_type": "code",
   "execution_count": 4,
   "id": "6aed298c-5b58-4185-bbda-249fed6e70b3",
   "metadata": {},
   "outputs": [],
   "source": [
    "s=Service(r'C:\\Users\\lenovo\\OneDrive\\Desktop\\Selenium\\chromedriver.exe')\n",
    "driver=webdriver.Chrome(service=s)\n"
   ]
  },
  {
   "cell_type": "code",
   "execution_count": 5,
   "id": "10411420-1724-4a2f-91bf-9fc9f9647dde",
   "metadata": {
    "scrolled": true
   },
   "outputs": [],
   "source": [
    "#open the amazon page\n",
    "driver.get('https://www.amazon.in/')\n",
    "#get the inpput elements\n",
    "input_search=driver.find_element(By.ID,'twotabsearchtextbox')\n",
    "search_button=driver.find_element(By.ID,\"nav-search-submit-button\")"
   ]
  },
  {
   "cell_type": "code",
   "execution_count": 6,
   "id": "b2a7f992-56d0-4c87-9bfd-542f31ab9a5a",
   "metadata": {},
   "outputs": [],
   "source": [
    "#Send the input to the elements\n",
    "input_search.send_keys(\"Smartphones under 50000\")\n",
    "sleep(1)\n",
    "search_button.click()\n"
   ]
  },
  {
   "cell_type": "code",
   "execution_count": 7,
   "id": "ba667696-cc9e-4f15-94b8-89b90d870aa7",
   "metadata": {},
   "outputs": [
    {
     "name": "stdout",
     "output_type": "stream",
     "text": [
      "scrapping page 1\n",
      "scrapping page 2\n",
      "scrapping page 3\n",
      "scrapping page 4\n",
      "scrapping page 5\n",
      "scrapping page 6\n",
      "scrapping page 7\n",
      "scrapping page 8\n",
      "scrapping page 9\n",
      "scrapping page 10\n"
     ]
    }
   ],
   "source": [
    "#scrape the amazon page\n",
    "products=[]\n",
    "prices=[]\n",
    "for i in range(10):      #for number of pages\n",
    "    print(\"scrapping page\",i+1)\n",
    "    product=driver.find_elements(By.XPATH,\"//span[@class='a-size-medium a-color-base a-text-normal']\")\n",
    "    price=driver.find_elements(By.CLASS_NAME,\"a-price-whole\")\n",
    "    for r in price:           \n",
    "        prices.append(r.text)\n",
    "    for p in product:           #for no. of product in a single page\n",
    "        products.append(p.text)\n",
    "    next_button=driver.find_element(By.XPATH,\"//a[text()='Next']\")\n",
    "    next_button.click()\n",
    "    sleep(2)"
   ]
  },
  {
   "cell_type": "code",
   "execution_count": 8,
   "id": "7e0b78f5-5dac-4b4b-ae58-d17e3c4ad919",
   "metadata": {},
   "outputs": [
    {
     "data": {
      "text/plain": [
       "176"
      ]
     },
     "execution_count": 8,
     "metadata": {},
     "output_type": "execute_result"
    }
   ],
   "source": [
    "len(products)\n",
    "#print(products)"
   ]
  },
  {
   "cell_type": "code",
   "execution_count": 9,
   "id": "057d0fac-73b6-4fcd-8e80-c93834d0e69c",
   "metadata": {},
   "outputs": [
    {
     "data": {
      "text/plain": [
       "176"
      ]
     },
     "execution_count": 9,
     "metadata": {},
     "output_type": "execute_result"
    }
   ],
   "source": [
    "#print(prices)\n",
    "len(prices)"
   ]
  },
  {
   "cell_type": "code",
   "execution_count": 16,
   "id": "7c441f71-bb40-436a-a21b-bd82805348ac",
   "metadata": {},
   "outputs": [
    {
     "name": "stdout",
     "output_type": "stream",
     "text": [
      "                                                 phone   price\n",
      "0    Samsung Galaxy S23 FE 5G (Mint, 8GB, 128GB Sto...  54,999\n",
      "1    Samsung Galaxy S24 5G (Onyx Black, 8GB, 256GB ...  79,999\n",
      "2          Redmi A2 (Sea Green, 2GB RAM, 64GB Storage)   5,499\n",
      "3    OnePlus Nord CE 3 Lite 5G (Chromatic Gray, 8GB...  21,999\n",
      "4          Redmi A2 (Aqua Blue, 2GB RAM, 64GB Storage)   5,499\n",
      "..                                                 ...     ...\n",
      "171  vivo Y36 (Vibrant Gold, 8GB RAM, 128GB Storage...  14,999\n",
      "172  itel A70 | 12GB* RAM + 256GB ROM| 13MP Dual Re...   7,299\n",
      "173  TECNO Spark Go 2024 (Mystery White,6GB* RAM, 6...   6,699\n",
      "174  Samsung Galaxy A34 5G (Awesome Violet, 8GB, 12...  27,499\n",
      "175  Lava Blaze 2 5G (Glass Blue, 6GB RAM, 128GB St...  10,999\n",
      "\n",
      "[176 rows x 2 columns]\n"
     ]
    }
   ],
   "source": [
    "data={'phone':products,\n",
    "     'price':prices}\n",
    "df=pd.DataFrame(data)\n",
    "print(df)"
   ]
  },
  {
   "cell_type": "code",
   "execution_count": 10,
   "id": "94c611c8-d8d1-41f9-94fa-aceedb338707",
   "metadata": {
    "scrolled": true
   },
   "outputs": [
    {
     "data": {
      "text/plain": [
       "['Samsung Galaxy S23 FE 5G (Mint, 8GB, 128GB Storage)',\n",
       " 'Samsung Galaxy S24 5G (Onyx Black, 8GB, 256GB Storage)',\n",
       " 'Redmi A2 (Sea Green, 2GB RAM, 64GB Storage)',\n",
       " 'OnePlus Nord CE 3 Lite 5G (Chromatic Gray, 8GB RAM, 256GB Storage)',\n",
       " 'Redmi A2 (Aqua Blue, 2GB RAM, 64GB Storage)',\n",
       " 'realme narzo N53 (Feather Black, 4GB+64GB) 33W Segment Fastest Charging | Slim Smartphone | 90 Hz Smooth Display']"
      ]
     },
     "execution_count": 10,
     "metadata": {},
     "output_type": "execute_result"
    }
   ],
   "source": [
    "products[:6]\n"
   ]
  },
  {
   "cell_type": "code",
   "execution_count": 11,
   "id": "d38f7162-d145-472a-8b80-0d9ba6731d35",
   "metadata": {},
   "outputs": [
    {
     "data": {
      "text/plain": [
       "['54,999', '79,999', '5,499', '21,999', '5,499', '8,999']"
      ]
     },
     "execution_count": 11,
     "metadata": {},
     "output_type": "execute_result"
    }
   ],
   "source": [
    "prices[:6]"
   ]
  },
  {
   "cell_type": "code",
   "execution_count": 12,
   "id": "e1feb4bb-013b-4082-bf7e-84e51e0b4191",
   "metadata": {},
   "outputs": [],
   "source": [
    "driver.quit()"
   ]
  },
  {
   "cell_type": "code",
   "execution_count": null,
   "id": "35590787-2717-4cab-b19c-cc4c8902a110",
   "metadata": {},
   "outputs": [],
   "source": []
  }
 ],
 "metadata": {
  "kernelspec": {
   "display_name": "Python 3 (ipykernel)",
   "language": "python",
   "name": "python3"
  },
  "language_info": {
   "codemirror_mode": {
    "name": "ipython",
    "version": 3
   },
   "file_extension": ".py",
   "mimetype": "text/x-python",
   "name": "python",
   "nbconvert_exporter": "python",
   "pygments_lexer": "ipython3",
   "version": "3.12.0"
  }
 },
 "nbformat": 4,
 "nbformat_minor": 5
}
